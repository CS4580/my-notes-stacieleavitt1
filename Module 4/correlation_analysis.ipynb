{
 "cells": [
  {
   "cell_type": "markdown",
   "metadata": {},
   "source": [
    "## Correlation Analysis\n",
    "\n",
    "- What is correlation analysis?\n",
    "- How does correlation analysis help with data cleaning?\n",
    "- Coding Example"
   ]
  },
  {
   "cell_type": "markdown",
   "metadata": {},
   "source": [
    "### Correlation Analysis\n",
    "It's a statistical technique used to examine the strength and direction of the relationship\n",
    "between two or more variables. \n",
    "\n",
    "Analyze the degree to which changes from one variable are associated with changes from another variable."
   ]
  },
  {
   "cell_type": "markdown",
   "metadata": {},
   "source": [
    "### How to do it?\n",
    "Use `Correlation Coefficients`, which is a measurement of the strength and the direction of the relationship between the two variables\n",
    "\n",
    "$$\n",
    "\\{Y,X\\}\n",
    "$$\n"
   ]
  },
  {
   "cell_type": "markdown",
   "metadata": {},
   "source": [
    "### Popular Correlation Coefficients\n",
    "\n",
    "#### Pearson \n",
    "- Use for continuous data\n",
    "- Measures the strength of the `linear relationships` between the variables\n",
    "- Sensitive to outliers\n",
    "\n",
    "#### Spearman\n",
    "- Use for ordinal or ranked data\n",
    "- Measures the strength of the `monotonic relationship` between the variables, which can be linear or non-linear\n",
    "- More robust toward outliers  "
   ]
  },
  {
   "cell_type": "markdown",
   "metadata": {},
   "source": [
    "Correlation analysis can identify variables that are highly correlated to each other.\n",
    "\n",
    "The analysis may indicate if one variable is `redundant` and can be eliminated"
   ]
  },
  {
   "cell_type": "markdown",
   "metadata": {},
   "source": [
    "### Dealing with Categorical Data\n",
    "- Data has many `non-numeric` features. You CAN NOT feed them to a learning model. They need to be converted.\n",
    "- Use the `pd.dtypes()` to see the data types\n",
    "\n",
    "### Two main types \n",
    "- Label encoding\n",
    "- One-hot encoding\n",
    "\n",
    "#### Label Encoding\n",
    "Each `unique` category in the categorical variable is assigned a numberical label. Typically starting at 0, 1, etc"
   ]
  },
  {
   "cell_type": "markdown",
   "metadata": {},
   "source": [
    "#### One-hot Encoding\n",
    "A new binary feature is created `for each` category, and the value for that feature is set to 1 if the observation is true. 0 if false.\n",
    "\n",
    "If my data was Fr, Sop, Ju, Se, then One-Hot would be like this:\n",
    "- Fr : 1 0 0 0\n",
    "- So : 0 1 0 0 \n",
    "- Ju : 0 0 1 0\n",
    "- Se : 0 0 0 1"
   ]
  },
  {
   "cell_type": "markdown",
   "metadata": {},
   "source": []
  }
 ],
 "metadata": {
  "language_info": {
   "name": "python"
  }
 },
 "nbformat": 4,
 "nbformat_minor": 2
}
