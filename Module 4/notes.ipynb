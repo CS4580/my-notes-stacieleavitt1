{
 "cells": [
  {
   "cell_type": "markdown",
   "metadata": {},
   "source": [
    "## Iterables\n",
    "Include comprehensions, iterable objects, and iterators. We can briefly discuss the lazy evaluation model with generators.\n",
    "\n",
    "### List Comprehensions\n",
    "The shorthand of comprehensions will make your code more readable, expressive, and effective. \n",
    "\n",
    "General Form:\n",
    "```\n",
    "[exp(item) for item in iterable]\n",
    "```"
   ]
  },
  {
   "cell_type": "code",
   "execution_count": 3,
   "metadata": {},
   "outputs": [
    {
     "data": {
      "text/plain": [
       "['Today', 'I', 'am', 'very', 'happy', 'to', 'learn', 'about', 'Comprehensions']"
      ]
     },
     "execution_count": 3,
     "metadata": {},
     "output_type": "execute_result"
    }
   ],
   "source": [
    "# a big string\n",
    "words = \"Today I am very happy to learn about Comprehensions\".split()\n",
    "words"
   ]
  },
  {
   "cell_type": "code",
   "execution_count": 4,
   "metadata": {},
   "outputs": [
    {
     "name": "stdout",
     "output_type": "stream",
     "text": [
      "['Today', 'I', 'am', 'very', 'happy', 'to', 'learn', 'about', 'Comprehensions']\n",
      "[5, 1, 2, 4, 5, 2, 5, 5, 14]\n"
     ]
    }
   ],
   "source": [
    "# Create a new list with the length of each string from words\n",
    "lengths = []\n",
    "for word in words:\n",
    "    lengths.append(len(word))\n",
    "\n",
    "print(words)\n",
    "print(lengths)"
   ]
  },
  {
   "cell_type": "code",
   "execution_count": 5,
   "metadata": {},
   "outputs": [
    {
     "name": "stdout",
     "output_type": "stream",
     "text": [
      "[5, 1, 2, 4, 5, 2, 5, 5, 14]\n"
     ]
    }
   ],
   "source": [
    "# Use a List comprehension instead\n",
    "lengths = [len(word) for word in words]\n",
    "print(lengths)"
   ]
  },
  {
   "cell_type": "code",
   "execution_count": 7,
   "metadata": {},
   "outputs": [
    {
     "name": "stdout",
     "output_type": "stream",
     "text": [
      "First 20 Factorial numbers lengths are: [1, 1, 1, 2, 3, 3, 4, 5, 6, 7, 8, 9, 10, 11, 13, 14, 15, 16, 18, 19]\n"
     ]
    }
   ],
   "source": [
    "# Task: Using a list comprehension, calculate the length of the \n",
    "# first 20 factorial numbers\n",
    "\n",
    "from math import factorial as fact\n",
    "\n",
    "fact_lengths = [len(str(fact(digit))) for digit in range(1,21)]\n",
    "print(f'First 20 Factorial numbers lengths are: {fact_lengths}')"
   ]
  },
  {
   "cell_type": "markdown",
   "metadata": {},
   "source": [
    "### Set Comprehensions\n",
    "\n",
    "General form:\n",
    "```\n",
    "{expr(item) for item in iterable}\n",
    "```"
   ]
  },
  {
   "cell_type": "code",
   "execution_count": 9,
   "metadata": {},
   "outputs": [
    {
     "name": "stdout",
     "output_type": "stream",
     "text": [
      "First 20 Factorial numbers unique lengths are: {1, 2, 3, 4, 5, 6, 7, 8, 9, 10, 11, 13, 14, 15, 16, 18, 19}\n"
     ]
    }
   ],
   "source": [
    "# List of all lengths of first 20 factorial numbers but with no repeats. (Unique numbers only)\n",
    "\n",
    "fact_lengths = {len(str(fact(digit))) for digit in range(1,21)}\n",
    "print(f'First 20 Factorial numbers unique lengths are: {fact_lengths}')"
   ]
  },
  {
   "cell_type": "markdown",
   "metadata": {},
   "source": [
    "## Dictionary Comprehensions\n",
    "\n",
    "General form\n",
    "```\n",
    "{key_expr: value for item in iterable}\n",
    "```"
   ]
  },
  {
   "cell_type": "code",
   "execution_count": 10,
   "metadata": {},
   "outputs": [
    {
     "name": "stdout",
     "output_type": "stream",
     "text": [
      "{'Warriors': 'San Francisco', 'Lakers': 'Los Angeles', 'Jazz': 'SLC'}\n",
      "{'San Francisco': 'Warriors', 'Los Angeles': 'Lakers', 'SLC': 'Jazz'}\n"
     ]
    }
   ],
   "source": [
    "# Create Dictionary\n",
    "nba_teams = {'Warriors': 'San Francisco', 'Lakers': 'Los Angeles', 'Jazz':'SLC'}\n",
    "# Create a dictionary comprehension \n",
    "teams_nba = {city:mascot for mascot, city in nba_teams.items()}\n",
    "print(nba_teams)\n",
    "print(teams_nba)"
   ]
  },
  {
   "cell_type": "markdown",
   "metadata": {},
   "source": [
    "### Filtering Predicates\n",
    "You may use `optional` filtering predicate \n",
    "\n",
    "General Form\n",
    "```\n",
    "[expr(item) for item in iterable if predicate(item)]\n",
    "```"
   ]
  },
  {
   "cell_type": "code",
   "execution_count": 12,
   "metadata": {},
   "outputs": [
    {
     "name": "stdout",
     "output_type": "stream",
     "text": [
      "Prime numbers in first 100 digits: [2, 3, 5, 7, 11, 13, 17, 19, 23, 29, 31, 37, 41, 43, 47, 53, 59, 61, 67, 71, 73, 79, 83, 89, 97]\n"
     ]
    }
   ],
   "source": [
    "from math import sqrt\n",
    "def is_prime(number):\n",
    "    if number < 2:\n",
    "        return False\n",
    "    for i in range(2, int(sqrt(number))+1):\n",
    "        if number % i == 0:\n",
    "            return False\n",
    "    return True\n",
    "\n",
    "# Task: Create a list of prime numbers in the first 100 numbers\n",
    "prime_list = [num for num in range(101) if is_prime(num)]\n",
    "print(f'Prime numbers in first 100 digits: {prime_list}')\n",
    "\n",
    "# MOMENT OF ZEN: Simple is Better than Complex.\n",
    "# Code is written once, but is read over and over.\n",
    "# Fewer is clearer"
   ]
  },
  {
   "cell_type": "markdown",
   "metadata": {},
   "source": [
    "## TODO:\n",
    "- Iteration Protocols\n",
    "- Generators"
   ]
  },
  {
   "cell_type": "markdown",
   "metadata": {},
   "source": []
  }
 ],
 "metadata": {
  "kernelspec": {
   "display_name": "mod",
   "language": "python",
   "name": "python3"
  },
  "language_info": {
   "codemirror_mode": {
    "name": "ipython",
    "version": 3
   },
   "file_extension": ".py",
   "mimetype": "text/x-python",
   "name": "python",
   "nbconvert_exporter": "python",
   "pygments_lexer": "ipython3",
   "version": "3.12.5"
  }
 },
 "nbformat": 4,
 "nbformat_minor": 2
}
