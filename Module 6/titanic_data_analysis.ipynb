{
 "cells": [
  {
   "cell_type": "code",
   "execution_count": 12,
   "metadata": {},
   "outputs": [
    {
     "data": {
      "text/html": [
       "<div>\n",
       "<style scoped>\n",
       "    .dataframe tbody tr th:only-of-type {\n",
       "        vertical-align: middle;\n",
       "    }\n",
       "\n",
       "    .dataframe tbody tr th {\n",
       "        vertical-align: top;\n",
       "    }\n",
       "\n",
       "    .dataframe thead th {\n",
       "        text-align: right;\n",
       "    }\n",
       "</style>\n",
       "<table border=\"1\" class=\"dataframe\">\n",
       "  <thead>\n",
       "    <tr style=\"text-align: right;\">\n",
       "      <th></th>\n",
       "      <th>Name</th>\n",
       "      <th>Born</th>\n",
       "      <th>Died</th>\n",
       "      <th>Age</th>\n",
       "      <th>Gender</th>\n",
       "      <th>Passenger_Class</th>\n",
       "      <th>Lived_Died</th>\n",
       "      <th>Fare</th>\n",
       "      <th>Fare_decimal</th>\n",
       "    </tr>\n",
       "  </thead>\n",
       "  <tbody>\n",
       "    <tr>\n",
       "      <th>0</th>\n",
       "      <td>DEAN, Miss Elizabeth Gladys Millvina</td>\n",
       "      <td>1912.0</td>\n",
       "      <td>2009.0</td>\n",
       "      <td>0.166667</td>\n",
       "      <td>Female</td>\n",
       "      <td>3</td>\n",
       "      <td>lived</td>\n",
       "      <td>£20             11s             6d</td>\n",
       "      <td>20.58</td>\n",
       "    </tr>\n",
       "    <tr>\n",
       "      <th>1</th>\n",
       "      <td>DANBOM, Master Gilbert Sigvard Emanuel</td>\n",
       "      <td>1911.0</td>\n",
       "      <td>1912.0</td>\n",
       "      <td>0.333333</td>\n",
       "      <td>Male</td>\n",
       "      <td>3</td>\n",
       "      <td>died</td>\n",
       "      <td>£14             8s</td>\n",
       "      <td>14.40</td>\n",
       "    </tr>\n",
       "    <tr>\n",
       "      <th>2</th>\n",
       "      <td>TANNūS, Master As'ad</td>\n",
       "      <td>1911.0</td>\n",
       "      <td>1931.0</td>\n",
       "      <td>0.416667</td>\n",
       "      <td>Male</td>\n",
       "      <td>3</td>\n",
       "      <td>lived</td>\n",
       "      <td>£8             10s             4d</td>\n",
       "      <td>8.52</td>\n",
       "    </tr>\n",
       "    <tr>\n",
       "      <th>3</th>\n",
       "      <td>PEACOCK, Master Albert Edward</td>\n",
       "      <td>1911.0</td>\n",
       "      <td>1912.0</td>\n",
       "      <td>0.583333</td>\n",
       "      <td>Male</td>\n",
       "      <td>3</td>\n",
       "      <td>died</td>\n",
       "      <td>£13             15s             6d</td>\n",
       "      <td>13.78</td>\n",
       "    </tr>\n",
       "    <tr>\n",
       "      <th>4</th>\n",
       "      <td>RICHARDS, Master Sibley George</td>\n",
       "      <td>1911.0</td>\n",
       "      <td>1987.0</td>\n",
       "      <td>0.750000</td>\n",
       "      <td>Male</td>\n",
       "      <td>2</td>\n",
       "      <td>lived</td>\n",
       "      <td>£18             15s</td>\n",
       "      <td>18.75</td>\n",
       "    </tr>\n",
       "    <tr>\n",
       "      <th>5</th>\n",
       "      <td>CALDWELL, Master Alden Gates</td>\n",
       "      <td>1911.0</td>\n",
       "      <td>1992.0</td>\n",
       "      <td>0.833333</td>\n",
       "      <td>Male</td>\n",
       "      <td>2</td>\n",
       "      <td>lived</td>\n",
       "      <td>£29.00</td>\n",
       "      <td>29.00</td>\n",
       "    </tr>\n",
       "    <tr>\n",
       "      <th>6</th>\n",
       "      <td>WEST, Miss Barbara Joyce</td>\n",
       "      <td>1911.0</td>\n",
       "      <td>2007.0</td>\n",
       "      <td>0.833333</td>\n",
       "      <td>Female</td>\n",
       "      <td>2</td>\n",
       "      <td>lived</td>\n",
       "      <td>£27             15s</td>\n",
       "      <td>27.75</td>\n",
       "    </tr>\n",
       "    <tr>\n",
       "      <th>7</th>\n",
       "      <td>AKS, Master Philip</td>\n",
       "      <td>1911.0</td>\n",
       "      <td>1991.0</td>\n",
       "      <td>0.833333</td>\n",
       "      <td>Male</td>\n",
       "      <td>3</td>\n",
       "      <td>lived</td>\n",
       "      <td>£9             7s</td>\n",
       "      <td>9.35</td>\n",
       "    </tr>\n",
       "    <tr>\n",
       "      <th>8</th>\n",
       "      <td>ALLISON, Master Hudson Trevor</td>\n",
       "      <td>1911.0</td>\n",
       "      <td>1929.0</td>\n",
       "      <td>0.916667</td>\n",
       "      <td>Male</td>\n",
       "      <td>1</td>\n",
       "      <td>lived</td>\n",
       "      <td>£151             16s</td>\n",
       "      <td>151.80</td>\n",
       "    </tr>\n",
       "    <tr>\n",
       "      <th>9</th>\n",
       "      <td>NAKID, Miss Mariayam</td>\n",
       "      <td>1911.0</td>\n",
       "      <td>1912.0</td>\n",
       "      <td>1.000000</td>\n",
       "      <td>Female</td>\n",
       "      <td>3</td>\n",
       "      <td>lived</td>\n",
       "      <td>£15             14s             10d</td>\n",
       "      <td>15.74</td>\n",
       "    </tr>\n",
       "    <tr>\n",
       "      <th>10</th>\n",
       "      <td>MALLET, Master André Clement</td>\n",
       "      <td>1910.0</td>\n",
       "      <td>1973.0</td>\n",
       "      <td>1.000000</td>\n",
       "      <td>Male</td>\n",
       "      <td>2</td>\n",
       "      <td>lived</td>\n",
       "      <td>£37                         1d</td>\n",
       "      <td>37.00</td>\n",
       "    </tr>\n",
       "    <tr>\n",
       "      <th>11</th>\n",
       "      <td>DEAN, Master Bertram Vere</td>\n",
       "      <td>1910.0</td>\n",
       "      <td>1992.0</td>\n",
       "      <td>1.000000</td>\n",
       "      <td>Male</td>\n",
       "      <td>3</td>\n",
       "      <td>lived</td>\n",
       "      <td>£20             11s             6d</td>\n",
       "      <td>20.58</td>\n",
       "    </tr>\n",
       "    <tr>\n",
       "      <th>12</th>\n",
       "      <td>LAROCHE, Miss Louise</td>\n",
       "      <td>1910.0</td>\n",
       "      <td>1998.0</td>\n",
       "      <td>1.000000</td>\n",
       "      <td>Female</td>\n",
       "      <td>2</td>\n",
       "      <td>lived</td>\n",
       "      <td>£41             11s             7d</td>\n",
       "      <td>41.58</td>\n",
       "    </tr>\n",
       "    <tr>\n",
       "      <th>13</th>\n",
       "      <td>JOHNSON, Miss Eleanor Ileen</td>\n",
       "      <td>1910.0</td>\n",
       "      <td>1998.0</td>\n",
       "      <td>1.000000</td>\n",
       "      <td>Female</td>\n",
       "      <td>3</td>\n",
       "      <td>lived</td>\n",
       "      <td>£11             2s             8d</td>\n",
       "      <td>11.13</td>\n",
       "    </tr>\n",
       "    <tr>\n",
       "      <th>14</th>\n",
       "      <td>KLASéN, Miss Gertrud Emilia</td>\n",
       "      <td>1910.0</td>\n",
       "      <td>1912.0</td>\n",
       "      <td>1.000000</td>\n",
       "      <td>Female</td>\n",
       "      <td>3</td>\n",
       "      <td>died</td>\n",
       "      <td>£12             3s             8d</td>\n",
       "      <td>12.18</td>\n",
       "    </tr>\n",
       "    <tr>\n",
       "      <th>15</th>\n",
       "      <td>PANULA, Master Eino Viljam</td>\n",
       "      <td>1911.0</td>\n",
       "      <td>1912.0</td>\n",
       "      <td>1.000000</td>\n",
       "      <td>Male</td>\n",
       "      <td>3</td>\n",
       "      <td>died</td>\n",
       "      <td>£39             13s             9d</td>\n",
       "      <td>39.69</td>\n",
       "    </tr>\n",
       "    <tr>\n",
       "      <th>16</th>\n",
       "      <td>BECKER, Master Richard F.</td>\n",
       "      <td>1910.0</td>\n",
       "      <td>1975.0</td>\n",
       "      <td>1.000000</td>\n",
       "      <td>Male</td>\n",
       "      <td>2</td>\n",
       "      <td>lived</td>\n",
       "      <td>£39.00</td>\n",
       "      <td>39.00</td>\n",
       "    </tr>\n",
       "    <tr>\n",
       "      <th>17</th>\n",
       "      <td>HäMäLäINEN, Master Viljo Unto Johannes</td>\n",
       "      <td>1911.0</td>\n",
       "      <td>1914.0</td>\n",
       "      <td>1.000000</td>\n",
       "      <td>Male</td>\n",
       "      <td>2</td>\n",
       "      <td>lived</td>\n",
       "      <td>£14             10s</td>\n",
       "      <td>14.50</td>\n",
       "    </tr>\n",
       "    <tr>\n",
       "      <th>18</th>\n",
       "      <td>SANDSTRöM, Miss Beatrice Irene</td>\n",
       "      <td>1910.0</td>\n",
       "      <td>1995.0</td>\n",
       "      <td>1.000000</td>\n",
       "      <td>Female</td>\n",
       "      <td>3</td>\n",
       "      <td>lived</td>\n",
       "      <td>£16             14s</td>\n",
       "      <td>16.70</td>\n",
       "    </tr>\n",
       "    <tr>\n",
       "      <th>19</th>\n",
       "      <td>GOODWIN, Master Sidney Leslie</td>\n",
       "      <td>1910.0</td>\n",
       "      <td>1912.0</td>\n",
       "      <td>1.000000</td>\n",
       "      <td>Male</td>\n",
       "      <td>3</td>\n",
       "      <td>died</td>\n",
       "      <td>£46             18s</td>\n",
       "      <td>46.90</td>\n",
       "    </tr>\n",
       "  </tbody>\n",
       "</table>\n",
       "</div>"
      ],
      "text/plain": [
       "                                      Name    Born    Died       Age  Gender  \\\n",
       "0     DEAN, Miss Elizabeth Gladys Millvina  1912.0  2009.0  0.166667  Female   \n",
       "1   DANBOM, Master Gilbert Sigvard Emanuel  1911.0  1912.0  0.333333    Male   \n",
       "2                     TANNūS, Master As'ad  1911.0  1931.0  0.416667    Male   \n",
       "3            PEACOCK, Master Albert Edward  1911.0  1912.0  0.583333    Male   \n",
       "4           RICHARDS, Master Sibley George  1911.0  1987.0  0.750000    Male   \n",
       "5             CALDWELL, Master Alden Gates  1911.0  1992.0  0.833333    Male   \n",
       "6                 WEST, Miss Barbara Joyce  1911.0  2007.0  0.833333  Female   \n",
       "7                       AKS, Master Philip  1911.0  1991.0  0.833333    Male   \n",
       "8            ALLISON, Master Hudson Trevor  1911.0  1929.0  0.916667    Male   \n",
       "9                     NAKID, Miss Mariayam  1911.0  1912.0  1.000000  Female   \n",
       "10            MALLET, Master André Clement  1910.0  1973.0  1.000000    Male   \n",
       "11               DEAN, Master Bertram Vere  1910.0  1992.0  1.000000    Male   \n",
       "12                    LAROCHE, Miss Louise  1910.0  1998.0  1.000000  Female   \n",
       "13             JOHNSON, Miss Eleanor Ileen  1910.0  1998.0  1.000000  Female   \n",
       "14             KLASéN, Miss Gertrud Emilia  1910.0  1912.0  1.000000  Female   \n",
       "15              PANULA, Master Eino Viljam  1911.0  1912.0  1.000000    Male   \n",
       "16               BECKER, Master Richard F.  1910.0  1975.0  1.000000    Male   \n",
       "17  HäMäLäINEN, Master Viljo Unto Johannes  1911.0  1914.0  1.000000    Male   \n",
       "18          SANDSTRöM, Miss Beatrice Irene  1910.0  1995.0  1.000000  Female   \n",
       "19           GOODWIN, Master Sidney Leslie  1910.0  1912.0  1.000000    Male   \n",
       "\n",
       "    Passenger_Class Lived_Died                                 Fare  \\\n",
       "0                 3      lived   £20             11s             6d   \n",
       "1                 3       died                   £14             8s   \n",
       "2                 3      lived    £8             10s             4d   \n",
       "3                 3       died   £13             15s             6d   \n",
       "4                 2      lived                  £18             15s   \n",
       "5                 2      lived                               £29.00   \n",
       "6                 2      lived                  £27             15s   \n",
       "7                 3      lived                    £9             7s   \n",
       "8                 1      lived                 £151             16s   \n",
       "9                 3      lived  £15             14s             10d   \n",
       "10                2      lived       £37                         1d   \n",
       "11                3      lived   £20             11s             6d   \n",
       "12                2      lived   £41             11s             7d   \n",
       "13                3      lived    £11             2s             8d   \n",
       "14                3       died    £12             3s             8d   \n",
       "15                3       died   £39             13s             9d   \n",
       "16                2      lived                               £39.00   \n",
       "17                2      lived                  £14             10s   \n",
       "18                3      lived                  £16             14s   \n",
       "19                3       died                  £46             18s   \n",
       "\n",
       "    Fare_decimal  \n",
       "0          20.58  \n",
       "1          14.40  \n",
       "2           8.52  \n",
       "3          13.78  \n",
       "4          18.75  \n",
       "5          29.00  \n",
       "6          27.75  \n",
       "7           9.35  \n",
       "8         151.80  \n",
       "9          15.74  \n",
       "10         37.00  \n",
       "11         20.58  \n",
       "12         41.58  \n",
       "13         11.13  \n",
       "14         12.18  \n",
       "15         39.69  \n",
       "16         39.00  \n",
       "17         14.50  \n",
       "18         16.70  \n",
       "19         46.90  "
      ]
     },
     "execution_count": 12,
     "metadata": {},
     "output_type": "execute_result"
    }
   ],
   "source": [
    "import pandas as pd\n",
    "\n",
    "passengers_df = pd.read_csv('../data/Titanic_Passengers.csv')\n",
    "\n",
    "passengers_df.head()"
   ]
  },
  {
   "cell_type": "code",
   "execution_count": 13,
   "metadata": {},
   "outputs": [
    {
     "data": {
      "text/html": [
       "<div>\n",
       "<style scoped>\n",
       "    .dataframe tbody tr th:only-of-type {\n",
       "        vertical-align: middle;\n",
       "    }\n",
       "\n",
       "    .dataframe tbody tr th {\n",
       "        vertical-align: top;\n",
       "    }\n",
       "\n",
       "    .dataframe thead th {\n",
       "        text-align: right;\n",
       "    }\n",
       "</style>\n",
       "<table border=\"1\" class=\"dataframe\">\n",
       "  <thead>\n",
       "    <tr style=\"text-align: right;\">\n",
       "      <th></th>\n",
       "      <th>Name</th>\n",
       "      <th>Born</th>\n",
       "      <th>Died</th>\n",
       "      <th>Age</th>\n",
       "      <th>Gender</th>\n",
       "      <th>Passenger_Class</th>\n",
       "      <th>Lived_Died</th>\n",
       "      <th>Fare</th>\n",
       "      <th>Fare_decimal</th>\n",
       "    </tr>\n",
       "  </thead>\n",
       "  <tbody>\n",
       "    <tr>\n",
       "      <th>1347</th>\n",
       "      <td>FLETCHER, Miss N.</td>\n",
       "      <td>NaN</td>\n",
       "      <td>NaN</td>\n",
       "      <td>NaN</td>\n",
       "      <td>Female</td>\n",
       "      <td>1</td>\n",
       "      <td>died</td>\n",
       "      <td>£1             10s</td>\n",
       "      <td>1.5</td>\n",
       "    </tr>\n",
       "    <tr>\n",
       "      <th>1348</th>\n",
       "      <td>STEVENS, Mr George</td>\n",
       "      <td>NaN</td>\n",
       "      <td>NaN</td>\n",
       "      <td>NaN</td>\n",
       "      <td>Male</td>\n",
       "      <td>1</td>\n",
       "      <td>died</td>\n",
       "      <td>£1             10s</td>\n",
       "      <td>1.5</td>\n",
       "    </tr>\n",
       "    <tr>\n",
       "      <th>1349</th>\n",
       "      <td>CARRUTHERS, Mr Francis</td>\n",
       "      <td>NaN</td>\n",
       "      <td>NaN</td>\n",
       "      <td>NaN</td>\n",
       "      <td>Male</td>\n",
       "      <td>1</td>\n",
       "      <td>died</td>\n",
       "      <td>NaN</td>\n",
       "      <td>NaN</td>\n",
       "    </tr>\n",
       "    <tr>\n",
       "      <th>1350</th>\n",
       "      <td>COLLIS, Mr</td>\n",
       "      <td>NaN</td>\n",
       "      <td>NaN</td>\n",
       "      <td>NaN</td>\n",
       "      <td>Male</td>\n",
       "      <td>1</td>\n",
       "      <td>died</td>\n",
       "      <td>NaN</td>\n",
       "      <td>NaN</td>\n",
       "    </tr>\n",
       "    <tr>\n",
       "      <th>1351</th>\n",
       "      <td>WILDING, Mr Edward</td>\n",
       "      <td>NaN</td>\n",
       "      <td>NaN</td>\n",
       "      <td>NaN</td>\n",
       "      <td>Male</td>\n",
       "      <td>1</td>\n",
       "      <td>died</td>\n",
       "      <td>NaN</td>\n",
       "      <td>NaN</td>\n",
       "    </tr>\n",
       "  </tbody>\n",
       "</table>\n",
       "</div>"
      ],
      "text/plain": [
       "                        Name  Born  Died  Age  Gender  Passenger_Class  \\\n",
       "1347       FLETCHER, Miss N.   NaN   NaN  NaN  Female                1   \n",
       "1348      STEVENS, Mr George   NaN   NaN  NaN    Male                1   \n",
       "1349  CARRUTHERS, Mr Francis   NaN   NaN  NaN    Male                1   \n",
       "1350              COLLIS, Mr   NaN   NaN  NaN    Male                1   \n",
       "1351      WILDING, Mr Edward   NaN   NaN  NaN    Male                1   \n",
       "\n",
       "     Lived_Died                Fare  Fare_decimal  \n",
       "1347       died  £1             10s           1.5  \n",
       "1348       died  £1             10s           1.5  \n",
       "1349       died                 NaN           NaN  \n",
       "1350       died                 NaN           NaN  \n",
       "1351       died                 NaN           NaN  "
      ]
     },
     "execution_count": 13,
     "metadata": {},
     "output_type": "execute_result"
    }
   ],
   "source": [
    "passengers_df.tail()"
   ]
  },
  {
   "cell_type": "code",
   "execution_count": 4,
   "metadata": {},
   "outputs": [
    {
     "name": "stdout",
     "output_type": "stream",
     "text": [
      "Lived_Died  died  lived   All\n",
      "Gender                       \n",
      "Female       143    339   482\n",
      "Male         709    161   870\n",
      "All          852    500  1352\n"
     ]
    }
   ],
   "source": [
    "# Margins = True will show the summary\n",
    "contingency_table = pd.crosstab(passengers_df['Gender'], passengers_df['Lived_Died'], margins=True)\n",
    "\n",
    "print(contingency_table)"
   ]
  },
  {
   "cell_type": "code",
   "execution_count": 9,
   "metadata": {},
   "outputs": [
    {
     "data": {
      "text/plain": [
       "Text(0, 0.5, 'Count')"
      ]
     },
     "execution_count": 9,
     "metadata": {},
     "output_type": "execute_result"
    },
    {
     "data": {
      "image/png": "[encoded data removed]",
      "text/plain": [
       "<Figure size 640x480 with 1 Axes>"
      ]
     },
     "metadata": {},
     "output_type": "display_data"
    }
   ],
   "source": [
    "# Task: Create a stacked bar char showing the number of passenger by gender that lived or died\n",
    "import matplotlib.pyplot as plt\n",
    "# exclude the last column and row (summary info)\n",
    "\n",
    "# For plotting, do not include the margins=True\n",
    "contingency_table = pd.crosstab(passengers_df['Gender'], passengers_df['Lived_Died'])\n",
    "contingency_table.plot(kind='bar', stacked=True)\n",
    "plt.ylabel('Count')"
   ]
  },
  {
   "cell_type": "code",
   "execution_count": 11,
   "metadata": {},
   "outputs": [
    {
     "name": "stdout",
     "output_type": "stream",
     "text": [
      "(355.24355436145913, 3.0570688722545846e-79, 1)\n"
     ]
    }
   ],
   "source": [
    "from scipy import stats   # for chi2_contingency\n",
    "\n",
    "print(stats.chi2_contingency(contingency_table)[0:3])\n",
    "\n",
    "# you get 3 values back:\n",
    "# 1) Chi-Squared: The higher the chi-squared statistics, the less likelihood that the observed values were the result of pure change\n",
    "# 2) Target P-value\n",
    "# 3) Degrees of freedom: 1 degree of freedom. (r rows -1) * (r columns -1) = 1"
   ]
  },
  {
   "cell_type": "markdown",
   "metadata": {},
   "source": [
    "## Chi-Square Example: Was Age relevant?"
   ]
  },
  {
   "cell_type": "code",
   "execution_count": 16,
   "metadata": {},
   "outputs": [
    {
     "name": "stdout",
     "output_type": "stream",
     "text": [
      "Lived_Died  died  lived\n",
      "age_bins               \n",
      "(0, 10]       46     54\n",
      "(10, 20]     156     71\n",
      "(20, 30]     286    166\n",
      "(30, 40]     158    107\n",
      "(40, 50]     111     64\n",
      "(50, 60]      40     30\n",
      "(60, 70]      27      7\n",
      "(70, 80]       5      0\n",
      "Chi2-Stats (24.465546982751874, 0.0009433264132943263, 7)\n"
     ]
    }
   ],
   "source": [
    "# Check the age column. It is already fixed for the age at the time of incident\n",
    "\n",
    "# What about null values?\n",
    "\n",
    "# Create the bins\n",
    "# passengers_df['age_bins'] = pd.cut(x=passengers_df['Age'], bins=[0, 10, 20, 30, 40, 50, 60, 70, 80])\n",
    "passengers_df['age_bins'] = pd.cut(x=passengers_df['Age'], bins=range(0,90,10))\n",
    "\n",
    "contingency_table = pd.crosstab(passengers_df['age_bins'], passengers_df['Lived_Died'])\n",
    "print(contingency_table)\n",
    "print(f'Chi2-Stats {stats.chi2_contingency(contingency_table)[0:3]}')\n"
   ]
  },
  {
   "cell_type": "code",
   "execution_count": 18,
   "metadata": {},
   "outputs": [
    {
     "name": "stderr",
     "output_type": "stream",
     "text": [
      "C:\\Users\\hvalle\\AppData\\Local\\Temp\\ipykernel_16924\\298969475.py:1: FutureWarning: The default of observed=False is deprecated and will be changed to True in a future version of pandas. Pass observed=False to retain current behavior or observed=True to adopt the future default and silence this warning.\n",
      "  passengers_df.groupby(['age_bins', 'Lived_Died']).size().unstack().plot(kind='bar',stacked=False)\n"
     ]
    },
    {
     "data": {
      "text/plain": [
       "Text(0.5, 1.0, 'Histogram of Age Ranges')"
      ]
     },
     "execution_count": 18,
     "metadata": {},
     "output_type": "execute_result"
    },
    {
     "data": {
      "image/png": "[encoded data removed]",
      "text/plain": [
       "<Figure size 640x480 with 1 Axes>"
      ]
     },
     "metadata": {},
     "output_type": "display_data"
    }
   ],
   "source": [
    "passengers_df.groupby(['age_bins', 'Lived_Died']).size().unstack().plot(kind='bar',stacked=False)\n",
    "plt.ylabel('Count')\n",
    "plt.xlabel('Age Ranges')\n",
    "plt.title('Histogram of Age Ranges')\n"
   ]
  },
  {
   "cell_type": "code",
   "execution_count": 24,
   "metadata": {},
   "outputs": [
    {
     "data": {
      "text/plain": [
       "Index(['Name', 'Born', 'Died', 'Age', 'Gender', 'Passenger_Class',\n",
       "       'Lived_Died', 'Fare', 'Fare_decimal'],\n",
       "      dtype='object')"
      ]
     },
     "execution_count": 24,
     "metadata": {},
     "output_type": "execute_result"
    }
   ],
   "source": [
    "import pandas as pd\n",
    "import seaborn as sns\n",
    "import matplotlib.pyplot as plt\n",
    "%matplotlib inline\n",
    "from sklearn import preprocessing\n",
    "# Load data\n",
    "passengers_df = pd.read_csv('../data/Titanic_Passengers.csv')\n",
    "passengers_df.columns"
   ]
  },
  {
   "cell_type": "code",
   "execution_count": 25,
   "metadata": {},
   "outputs": [
    {
     "name": "stderr",
     "output_type": "stream",
     "text": [
      "C:\\Users\\hvalle\\AppData\\Local\\Temp\\ipykernel_16924\\2728678035.py:8: FutureWarning: The default value of observed=False is deprecated and will change to observed=True in a future version of pandas. Specify observed=False to silence this warning and retain the current behavior\n",
      "  pivot_table = pd.pivot_table(passengers_df, values='Lived_Died_int', index=['Gender'], columns=['Age_Groups'])# Use a pivottable\n",
      "C:\\Users\\hvalle\\AppData\\Local\\Temp\\ipykernel_16924\\2728678035.py:9: FutureWarning: DataFrame.applymap has been deprecated. Use DataFrame.map instead.\n",
      "  pivot_table.applymap(lambda x: 1-x) # invert values in heatmap\n"
     ]
    },
    {
     "data": {
      "text/plain": [
       "(array([0.5, 1.5, 2.5, 3.5, 4.5, 5.5, 6.5, 7.5]),\n",
       " [Text(0.5, 0, '0-9'),\n",
       "  Text(1.5, 0, '10-19'),\n",
       "  Text(2.5, 0, '20-29'),\n",
       "  Text(3.5, 0, '30-39'),\n",
       "  Text(4.5, 0, '40-49'),\n",
       "  Text(5.5, 0, '50-59'),\n",
       "  Text(6.5, 0, '60-69'),\n",
       "  Text(7.5, 0, '70-79')])"
      ]
     },
     "execution_count": 25,
     "metadata": {},
     "output_type": "execute_result"
    },
    {
     "data": {
      "image/png": "[encoded data removed]",
      "text/plain": [
       "<Figure size 1200x500 with 2 Axes>"
      ]
     },
     "metadata": {},
     "output_type": "display_data"
    }
   ],
   "source": [
    "# Drop columns you do not need\n",
    "passengers_df.drop(['Name', 'Born','Died', 'Fare', 'Fare_decimal', 'Passenger_Class'], axis=1, inplace=True)\n",
    "passengers_df.dropna(inplace=True)  # drop null values\n",
    "# Encode the categorical data\n",
    "le = preprocessing.LabelEncoder()\n",
    "passengers_df['Lived_Died_int'] = le.fit_transform(passengers_df['Lived_Died'])\n",
    "passengers_df['Age_Groups'] = pd.cut(x=passengers_df['Age'], bins=range(0,90,10)) # create bins\n",
    "pivot_table = pd.pivot_table(passengers_df, values='Lived_Died_int', index=['Gender'], columns=['Age_Groups'])# Use a pivottable\n",
    "pivot_table.applymap(lambda x: 1-x) # invert values in heatmap\n",
    "# Create a heatmap\n",
    "plt.figure(figsize=(12,5))\n",
    "x_axis_labels = ['0-9', '10-19', '20-29', '30-39', '40-49', '50-59', '60-69', '70-79']\n",
    "sns.heatmap(pivot_table, annot=True, yticklabels=['Female', 'Male'], xticklabels=x_axis_labels, fmt='.2f', cmap='rocket')\n",
    "plt.title('Heatmap Comparing Age and Gender to Survival on the Titanic')\n",
    "plt.xticks(rotation=90)"
   ]
  },
  {
   "cell_type": "markdown",
   "metadata": {},
   "source": [
    "## TASK: Did the Titanic Passenger Class Affected Survivorship?\n",
    "\n",
    "In this case, the data is `ordinal` because we can order the categories from first to third\n"
   ]
  },
  {
   "cell_type": "code",
   "execution_count": 26,
   "metadata": {},
   "outputs": [
    {
     "data": {
      "text/html": [
       "<div>\n",
       "<style scoped>\n",
       "    .dataframe tbody tr th:only-of-type {\n",
       "        vertical-align: middle;\n",
       "    }\n",
       "\n",
       "    .dataframe tbody tr th {\n",
       "        vertical-align: top;\n",
       "    }\n",
       "\n",
       "    .dataframe thead th {\n",
       "        text-align: right;\n",
       "    }\n",
       "</style>\n",
       "<table border=\"1\" class=\"dataframe\">\n",
       "  <thead>\n",
       "    <tr style=\"text-align: right;\">\n",
       "      <th></th>\n",
       "      <th>Name</th>\n",
       "      <th>Born</th>\n",
       "      <th>Died</th>\n",
       "      <th>Age</th>\n",
       "      <th>Gender</th>\n",
       "      <th>Passenger_Class</th>\n",
       "      <th>Lived_Died</th>\n",
       "      <th>Fare</th>\n",
       "      <th>Fare_decimal</th>\n",
       "    </tr>\n",
       "  </thead>\n",
       "  <tbody>\n",
       "    <tr>\n",
       "      <th>0</th>\n",
       "      <td>DEAN, Miss Elizabeth Gladys Millvina</td>\n",
       "      <td>1912.0</td>\n",
       "      <td>2009.0</td>\n",
       "      <td>0.166667</td>\n",
       "      <td>Female</td>\n",
       "      <td>3</td>\n",
       "      <td>lived</td>\n",
       "      <td>£20             11s             6d</td>\n",
       "      <td>20.58</td>\n",
       "    </tr>\n",
       "    <tr>\n",
       "      <th>1</th>\n",
       "      <td>DANBOM, Master Gilbert Sigvard Emanuel</td>\n",
       "      <td>1911.0</td>\n",
       "      <td>1912.0</td>\n",
       "      <td>0.333333</td>\n",
       "      <td>Male</td>\n",
       "      <td>3</td>\n",
       "      <td>died</td>\n",
       "      <td>£14             8s</td>\n",
       "      <td>14.40</td>\n",
       "    </tr>\n",
       "    <tr>\n",
       "      <th>2</th>\n",
       "      <td>TANNūS, Master As'ad</td>\n",
       "      <td>1911.0</td>\n",
       "      <td>1931.0</td>\n",
       "      <td>0.416667</td>\n",
       "      <td>Male</td>\n",
       "      <td>3</td>\n",
       "      <td>lived</td>\n",
       "      <td>£8             10s             4d</td>\n",
       "      <td>8.52</td>\n",
       "    </tr>\n",
       "    <tr>\n",
       "      <th>3</th>\n",
       "      <td>PEACOCK, Master Albert Edward</td>\n",
       "      <td>1911.0</td>\n",
       "      <td>1912.0</td>\n",
       "      <td>0.583333</td>\n",
       "      <td>Male</td>\n",
       "      <td>3</td>\n",
       "      <td>died</td>\n",
       "      <td>£13             15s             6d</td>\n",
       "      <td>13.78</td>\n",
       "    </tr>\n",
       "    <tr>\n",
       "      <th>4</th>\n",
       "      <td>RICHARDS, Master Sibley George</td>\n",
       "      <td>1911.0</td>\n",
       "      <td>1987.0</td>\n",
       "      <td>0.750000</td>\n",
       "      <td>Male</td>\n",
       "      <td>2</td>\n",
       "      <td>lived</td>\n",
       "      <td>£18             15s</td>\n",
       "      <td>18.75</td>\n",
       "    </tr>\n",
       "  </tbody>\n",
       "</table>\n",
       "</div>"
      ],
      "text/plain": [
       "                                     Name    Born    Died       Age  Gender  \\\n",
       "0    DEAN, Miss Elizabeth Gladys Millvina  1912.0  2009.0  0.166667  Female   \n",
       "1  DANBOM, Master Gilbert Sigvard Emanuel  1911.0  1912.0  0.333333    Male   \n",
       "2                    TANNūS, Master As'ad  1911.0  1931.0  0.416667    Male   \n",
       "3           PEACOCK, Master Albert Edward  1911.0  1912.0  0.583333    Male   \n",
       "4          RICHARDS, Master Sibley George  1911.0  1987.0  0.750000    Male   \n",
       "\n",
       "   Passenger_Class Lived_Died                                Fare  \\\n",
       "0                3      lived  £20             11s             6d   \n",
       "1                3       died                  £14             8s   \n",
       "2                3      lived   £8             10s             4d   \n",
       "3                3       died  £13             15s             6d   \n",
       "4                2      lived                 £18             15s   \n",
       "\n",
       "   Fare_decimal  \n",
       "0         20.58  \n",
       "1         14.40  \n",
       "2          8.52  \n",
       "3         13.78  \n",
       "4         18.75  "
      ]
     },
     "execution_count": 26,
     "metadata": {},
     "output_type": "execute_result"
    }
   ],
   "source": [
    "import pandas as pd\n",
    "import seaborn as sns\n",
    "import matplotlib.pyplot as plt\n",
    "%matplotlib inline\n",
    "from sklearn import preprocessing\n",
    "from scipy import stats\n",
    "\n",
    "passengers_df = pd.read_csv('../data/Titanic_Passengers.csv')# Load data\n",
    "passengers_df.head()"
   ]
  },
  {
   "cell_type": "code",
   "execution_count": 28,
   "metadata": {},
   "outputs": [
    {
     "data": {
      "text/html": [
       "<div>\n",
       "<style scoped>\n",
       "    .dataframe tbody tr th:only-of-type {\n",
       "        vertical-align: middle;\n",
       "    }\n",
       "\n",
       "    .dataframe tbody tr th {\n",
       "        vertical-align: top;\n",
       "    }\n",
       "\n",
       "    .dataframe thead th {\n",
       "        text-align: right;\n",
       "    }\n",
       "</style>\n",
       "<table border=\"1\" class=\"dataframe\">\n",
       "  <thead>\n",
       "    <tr style=\"text-align: right;\">\n",
       "      <th>Lived_Died</th>\n",
       "      <th>died</th>\n",
       "      <th>lived</th>\n",
       "      <th>All</th>\n",
       "    </tr>\n",
       "    <tr>\n",
       "      <th>Passenger_Class</th>\n",
       "      <th></th>\n",
       "      <th></th>\n",
       "      <th></th>\n",
       "    </tr>\n",
       "  </thead>\n",
       "  <tbody>\n",
       "    <tr>\n",
       "      <th>1</th>\n",
       "      <td>149</td>\n",
       "      <td>201</td>\n",
       "      <td>350</td>\n",
       "    </tr>\n",
       "    <tr>\n",
       "      <th>2</th>\n",
       "      <td>175</td>\n",
       "      <td>118</td>\n",
       "      <td>293</td>\n",
       "    </tr>\n",
       "    <tr>\n",
       "      <th>3</th>\n",
       "      <td>528</td>\n",
       "      <td>181</td>\n",
       "      <td>709</td>\n",
       "    </tr>\n",
       "    <tr>\n",
       "      <th>All</th>\n",
       "      <td>852</td>\n",
       "      <td>500</td>\n",
       "      <td>1352</td>\n",
       "    </tr>\n",
       "  </tbody>\n",
       "</table>\n",
       "</div>"
      ],
      "text/plain": [
       "Lived_Died       died  lived   All\n",
       "Passenger_Class                   \n",
       "1                 149    201   350\n",
       "2                 175    118   293\n",
       "3                 528    181   709\n",
       "All               852    500  1352"
      ]
     },
     "execution_count": 28,
     "metadata": {},
     "output_type": "execute_result"
    }
   ],
   "source": [
    "# Create a contingency table\n",
    "contingency_table = pd.crosstab(passengers_df['Passenger_Class'], passengers_df['Lived_Died'], margins=True)\n",
    "contingency_table"
   ]
  },
  {
   "cell_type": "code",
   "execution_count": 30,
   "metadata": {},
   "outputs": [
    {
     "data": {
      "text/plain": [
       "<Axes: xlabel='Lived_Died'>"
      ]
     },
     "execution_count": 30,
     "metadata": {},
     "output_type": "execute_result"
    },
    {
     "data": {
      "image/png": "[encoded data removed]",
      "text/plain": [
       "<Figure size 640x480 with 1 Axes>"
      ]
     },
     "metadata": {},
     "output_type": "display_data"
    }
   ],
   "source": [
    "# Create a Bar Plot with the data stacked\n",
    "contingency_table = pd.crosstab(passengers_df['Lived_Died'], passengers_df['Passenger_Class'], margins=False)\n",
    "contingency_table.plot(kind='bar', stacked=True)"
   ]
  },
  {
   "cell_type": "code",
   "execution_count": 31,
   "metadata": {},
   "outputs": [
    {
     "data": {
      "text/plain": [
       "(104.05195288933228, 2.543346399916496e-23, 2)"
      ]
     },
     "execution_count": 31,
     "metadata": {},
     "output_type": "execute_result"
    }
   ],
   "source": [
    "# Run a chi2_contingency on the table\n",
    "contingency_table = pd.crosstab(passengers_df['Passenger_Class'], passengers_df['Lived_Died'], margins=False)\n",
    "stats.chi2_contingency(contingency_table)[0:3]"
   ]
  },
  {
   "cell_type": "markdown",
   "metadata": {},
   "source": [
    "Which passenger class is responsible for the significant difference in survival rate?\n",
    "- Chi-square test offers that at least `one` of the passenger class is different from what we would expect if the variables were independent\n",
    "- Since this our first test, it is considered a `Priori Test`\n",
    "- To continue our analysis, we will run another test, a `Post Hoc` test"
   ]
  },
  {
   "cell_type": "markdown",
   "metadata": {},
   "source": [
    "### Post-Hoc Test (Fisher's Exact Test)\n",
    "\n",
    "- Compared every passenger class to every other class to see if there is statistical significance between the two. \n",
    "- We could apply a `Chi-square` test for each of the three separate comparison, but our sample data in too small. \n",
    "- In this case, `Fisher's Exact` test is a better option"
   ]
  },
  {
   "cell_type": "code",
   "execution_count": 42,
   "metadata": {},
   "outputs": [
    {
     "data": {
      "text/html": [
       "<div>\n",
       "<style scoped>\n",
       "    .dataframe tbody tr th:only-of-type {\n",
       "        vertical-align: middle;\n",
       "    }\n",
       "\n",
       "    .dataframe tbody tr th {\n",
       "        vertical-align: top;\n",
       "    }\n",
       "\n",
       "    .dataframe thead th {\n",
       "        text-align: right;\n",
       "    }\n",
       "</style>\n",
       "<table border=\"1\" class=\"dataframe\">\n",
       "  <thead>\n",
       "    <tr style=\"text-align: right;\">\n",
       "      <th>Lived_Died</th>\n",
       "      <th>died</th>\n",
       "      <th>lived</th>\n",
       "    </tr>\n",
       "    <tr>\n",
       "      <th>Passenger_Class</th>\n",
       "      <th></th>\n",
       "      <th></th>\n",
       "    </tr>\n",
       "  </thead>\n",
       "  <tbody>\n",
       "    <tr>\n",
       "      <th>1</th>\n",
       "      <td>149</td>\n",
       "      <td>201</td>\n",
       "    </tr>\n",
       "    <tr>\n",
       "      <th>2</th>\n",
       "      <td>175</td>\n",
       "      <td>118</td>\n",
       "    </tr>\n",
       "    <tr>\n",
       "      <th>3</th>\n",
       "      <td>528</td>\n",
       "      <td>181</td>\n",
       "    </tr>\n",
       "  </tbody>\n",
       "</table>\n",
       "</div>"
      ],
      "text/plain": [
       "Lived_Died       died  lived\n",
       "Passenger_Class             \n",
       "1                 149    201\n",
       "2                 175    118\n",
       "3                 528    181"
      ]
     },
     "execution_count": 42,
     "metadata": {},
     "output_type": "execute_result"
    }
   ],
   "source": [
    "import pandas as pd\n",
    "import seaborn as sns\n",
    "import matplotlib.pyplot as plt\n",
    "%matplotlib inline\n",
    "from sklearn import preprocessing\n",
    "from scipy import stats\n",
    "\n",
    "passengers_df = pd.read_csv('../data/Titanic_Passengers.csv')# Load data\n",
    "contingency_table = pd.crosstab(passengers_df['Passenger_Class'], passengers_df['Lived_Died'], margins=False)\n",
    "contingency_table"
   ]
  },
  {
   "cell_type": "code",
   "execution_count": 43,
   "metadata": {},
   "outputs": [
    {
     "name": "stdout",
     "output_type": "stream",
     "text": [
      "Fishers Exact Test for First and Second Class: 1.827149276703859e-05\n",
      "Fishers Exact Test for First and Third Class: 7.457205699022123e-24\n",
      "Fishers Exact Test for Second and Third Class: 5.007621820657881e-06\n"
     ]
    }
   ],
   "source": [
    "first_class = contingency_table.iloc[0].values    # extract row values\n",
    "second_class = contingency_table.iloc[1].values    # extract row values\n",
    "third_class = contingency_table.iloc[2].values    # extract row values\n",
    "# Create a Fisher's Exact test to determine if there is a relationship between passenger classes and survival\n",
    "oddsratio, pvalue = stats.fisher_exact([first_class, second_class])\n",
    "print(f'Fishers Exact Test for First and Second Class: {pvalue}')\n",
    "oddsratio, pvalue = stats.fisher_exact([first_class, third_class])\n",
    "print(f'Fishers Exact Test for First and Third Class: {pvalue}')\n",
    "oddsratio, pvalue = stats.fisher_exact([second_class, third_class])\n",
    "print(f'Fishers Exact Test for Second and Third Class: {pvalue}')"
   ]
  },
  {
   "cell_type": "markdown",
   "metadata": {},
   "source": [
    "Each of the Fisher's Test reveals statistical significance\n",
    "\n",
    "Another way to conceptualize the result is to look at percentages:\n",
    "\n",
    "| Passenger Class   |   Died    |\n",
    "|-------------------|-----------|\n",
    "| First Class       | 43%  |\n",
    "| Second Class      | 60%  |\n",
    "| Third Class       | 74%  |\n",
    "\n",
    "TODO: Create a heatmap of Passenger Class split in Age_Ranges by Gender and survival rate"
   ]
  },
  {
   "cell_type": "code",
   "execution_count": 44,
   "metadata": {},
   "outputs": [
    {
     "name": "stderr",
     "output_type": "stream",
     "text": [
      "C:\\Users\\hvalle\\AppData\\Local\\Temp\\ipykernel_16924\\1426154108.py:8: FutureWarning: The default value of observed=False is deprecated and will change to observed=True in a future version of pandas. Specify observed=False to silence this warning and retain the current behavior\n",
      "  pivot_table = pd.pivot_table(passengers_df, values='Lived_Died_int', index=['Gender'], columns=['Age_Groups', 'Passenger_Class'])# Use a pivottable\n",
      "C:\\Users\\hvalle\\AppData\\Local\\Temp\\ipykernel_16924\\1426154108.py:9: FutureWarning: DataFrame.applymap has been deprecated. Use DataFrame.map instead.\n",
      "  pivot_table.applymap(lambda x: 1-x) # invert values in heatmap\n"
     ]
    },
    {
     "data": {
      "text/plain": [
       "(array([ 0.5,  1.5,  2.5,  3.5,  4.5,  5.5,  6.5,  7.5,  8.5,  9.5, 10.5,\n",
       "        11.5, 12.5, 13.5, 14.5, 15.5, 16.5, 17.5, 18.5, 19.5, 20.5, 21.5]),\n",
       " [Text(0.5, 0, 'PC 1: 0-9'),\n",
       "  Text(1.5, 0, 'PC 1: 10-19'),\n",
       "  Text(2.5, 0, 'PC 1: 20-29'),\n",
       "  Text(3.5, 0, 'PC 1: 30-39'),\n",
       "  Text(4.5, 0, 'PC 1: 40-49'),\n",
       "  Text(5.5, 0, 'PC 1: 50-59'),\n",
       "  Text(6.5, 0, 'PC1: 60-69'),\n",
       "  Text(7.5, 0, 'PC 1: 70-79PC 2: 0-9'),\n",
       "  Text(8.5, 0, 'PC 2: 10-19'),\n",
       "  Text(9.5, 0, 'PC 2: 20-29'),\n",
       "  Text(10.5, 0, 'PC 2: 30-39'),\n",
       "  Text(11.5, 0, 'PC 2: 40-49'),\n",
       "  Text(12.5, 0, 'PC 2: 50-59'),\n",
       "  Text(13.5, 0, 'PC2: 60-69'),\n",
       "  Text(14.5, 0, 'PC 2: 70-79PC 3: 0-9'),\n",
       "  Text(15.5, 0, 'PC 3: 10-19'),\n",
       "  Text(16.5, 0, 'PC 3: 20-29'),\n",
       "  Text(17.5, 0, 'PC 3: 30-39'),\n",
       "  Text(18.5, 0, 'PC 3: 40-49'),\n",
       "  Text(19.5, 0, 'PC 3: 50-59'),\n",
       "  Text(20.5, 0, 'PC3: 60-69'),\n",
       "  Text(21.5, 0, 'PC 3: 70-79')])"
      ]
     },
     "execution_count": 44,
     "metadata": {},
     "output_type": "execute_result"
    },
    {
     "data": {
      "image/png": "[encoded data removed]",
      "text/plain": [
       "<Figure size 1600x500 with 2 Axes>"
      ]
     },
     "metadata": {},
     "output_type": "display_data"
    }
   ],
   "source": [
    "# Drop columns you do not need\n",
    "passengers_df.drop(['Name', 'Born','Died', 'Fare', 'Fare_decimal'], axis=1, inplace=True)\n",
    "passengers_df.dropna(inplace=True)  # drop null values\n",
    "# Encode the categorical data\n",
    "le = preprocessing.LabelEncoder()\n",
    "passengers_df['Lived_Died_int'] = le.fit_transform(passengers_df['Lived_Died'])\n",
    "passengers_df['Age_Groups'] = pd.cut(x=passengers_df['Age'], bins=range(0,90,10)) # create bins\n",
    "pivot_table = pd.pivot_table(passengers_df, values='Lived_Died_int', index=['Gender'], columns=['Age_Groups', 'Passenger_Class'])# Use a pivottable\n",
    "pivot_table.applymap(lambda x: 1-x) # invert values in heatmap\n",
    "# Create a heatmap\n",
    "plt.figure(figsize=(16,5))\n",
    "x_axis_labels = [\n",
    "    'PC 1: 0-9', 'PC 1: 10-19', 'PC 1: 20-29', 'PC 1: 30-39', 'PC 1: 40-49', 'PC 1: 50-59', 'PC1: 60-69', 'PC 1: 70-79',\n",
    "    'PC 2: 0-9', 'PC 2: 10-19', 'PC 2: 20-29', 'PC 2: 30-39', 'PC 2: 40-49', 'PC 2: 50-59', 'PC2: 60-69', 'PC 2: 70-79',\n",
    "    'PC 3: 0-9', 'PC 3: 10-19', 'PC 3: 20-29', 'PC 3: 30-39', 'PC 3: 40-49', 'PC 3: 50-59', 'PC3: 60-69', 'PC 3: 70-79'\n",
    "]\n",
    "sns.heatmap(pivot_table, annot=True, yticklabels=['Female', 'Male'], xticklabels=x_axis_labels, fmt='.2f', cmap='rocket')\n",
    "plt.title('Heatmap Comparing Age and Gender to Survival on the Titanic')\n",
    "plt.xticks(rotation=90)"
   ]
  },
  {
   "cell_type": "code",
   "execution_count": null,
   "metadata": {},
   "outputs": [],
   "source": []
  }
 ],
 "metadata": {
  "interpreter": {
   "hash": "df65f76269987e9c7798a7794e86978b684ad7f6cd526bfef2149b398557bfaf"
  },
  "kernelspec": {
   "display_name": "Python 3.12.4 ('base')",
   "language": "python",
   "name": "python3"
  },
  "language_info": {
   "codemirror_mode": {
    "name": "ipython",
    "version": 3
   },
   "file_extension": ".py",
   "mimetype": "text/x-python",
   "name": "python",
   "nbconvert_exporter": "python",
   "pygments_lexer": "ipython3",
   "version": "3.12.4"
  },
  "orig_nbformat": 4
 },
 "nbformat": 4,
 "nbformat_minor": 2
}
