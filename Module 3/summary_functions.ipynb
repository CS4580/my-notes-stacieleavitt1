{
 "cells": [
  {
   "cell_type": "markdown",
   "metadata": {},
   "source": [
    "## Summary Functions\n",
    "\n",
    "### Dataset\n",
    "From Kaggle: https://www.kaggle.com/datasets/zynicide/wine-reviews\n",
    "\n",
    "Download set using Kaggle:\n",
    "````\n",
    "kaggle datasets download -d zynicide/wine-reviews\n",
    "\n",
    "````\n",
    "\n"
   ]
  }
 ],
 "metadata": {
  "kernelspec": {
   "display_name": "cs4580",
   "language": "python",
   "name": "python3"
  },
  "language_info": {
   "name": "python",
   "version": "3.10.14"
  }
 },
 "nbformat": 4,
 "nbformat_minor": 2
}
